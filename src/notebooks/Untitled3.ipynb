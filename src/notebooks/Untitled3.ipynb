{
 "cells": [
  {
   "cell_type": "code",
   "execution_count": 1,
   "id": "f7affe5e",
   "metadata": {},
   "outputs": [],
   "source": [
    "import logging\n",
    "import os\n",
    "import sys\n",
    "from dataclasses import dataclass, field\n",
    "from typing import Optional\n",
    "\n",
    "import datasets\n",
    "import nltk  # Here to have a nice missing dependency error message early on\n",
    "import numpy as np\n",
    "from datasets import load_dataset, load_metric\n",
    "\n",
    "import transformers\n",
    "from filelock import FileLock\n",
    "from transformers import (\n",
    "    AutoConfig,\n",
    "    AutoModelForSeq2SeqLM,\n",
    "    AutoTokenizer,\n",
    "    DataCollatorForSeq2Seq,\n",
    "    HfArgumentParser,\n",
    "    MBart50Tokenizer,\n",
    "    MBart50TokenizerFast,\n",
    "    MBartTokenizer,\n",
    "    MBartTokenizerFast,\n",
    "    Seq2SeqTrainer,\n",
    "    Seq2SeqTrainingArguments,\n",
    "    set_seed,\n",
    ")\n",
    "from transformers.trainer_utils import get_last_checkpoint\n",
    "from transformers.utils import check_min_version, is_offline_mode, send_example_telemetry\n",
    "from transformers.utils.versions import require_version\n",
    "\n",
    "\n",
    "from data import DataCollatorForSeq2SeqWithMultipleReferences\n",
    "from BSF_Trainer import BSFTrainer\n",
    "from trainer import CustomTrainer\n",
    "\n",
    "import traceback\n",
    "\n",
    "\n",
    "# Will error if the minimal version of Transformers is not installed. Remove at your own risks.\n",
    "# check_min_version(\"4.21.0.dev0\")\n",
    "\n",
    "# require_version(\"datasets>=1.8.0\", \"To fix: pip install -r examples/pytorch/summarization/requirements.txt\")\n",
    "\n",
    "logger = logging.getLogger(__name__)\n",
    "\n",
    "try:\n",
    "    nltk.data.find(\"tokenizers/punkt\")\n",
    "except (LookupError, OSError):\n",
    "    if is_offline_mode():\n",
    "        raise LookupError(\n",
    "            \"Offline mode: run this script without TRANSFORMERS_OFFLINE first to download nltk data files\"\n",
    "        )\n",
    "    with FileLock(\".lock\") as lock:\n",
    "        nltk.download(\"punkt\", quiet=True)\n",
    "\n",
    "# A list of all multilingual tokenizer which require lang attribute.\n",
    "MULTILINGUAL_TOKENIZERS = [MBartTokenizer, MBartTokenizerFast, MBart50Tokenizer, MBart50TokenizerFast]\n",
    "\n",
    "import string\n",
    "import random\n",
    "\n",
    "\n",
    "import pandas as pd\n",
    "import spacy\n",
    "import random    \n",
    "import nltk"
   ]
  },
  {
   "cell_type": "code",
   "execution_count": 2,
   "id": "fd8fe08b",
   "metadata": {},
   "outputs": [],
   "source": [
    "from datasets import load_from_disk\n",
    "\n",
    "wiki_datasets = load_from_disk(\"C:\\.cache\\huggingface\\datasets\\wiki_ner_100_1000\")"
   ]
  },
  {
   "cell_type": "code",
   "execution_count": 9,
   "id": "bf8340f0",
   "metadata": {},
   "outputs": [],
   "source": [
    "wiki_datasets2 = load_from_disk(\"G:\\.cache\\huggingface\\datasets\\wiki_ner_100_1000\")"
   ]
  },
  {
   "cell_type": "code",
   "execution_count": 14,
   "id": "1e48f027",
   "metadata": {},
   "outputs": [
    {
     "data": {
      "text/plain": [
       "Dataset({\n",
       "    features: ['id', 'url', 'title', 'text', 'ner'],\n",
       "    num_rows: 3767787\n",
       "})"
      ]
     },
     "execution_count": 14,
     "metadata": {},
     "output_type": "execute_result"
    }
   ],
   "source": [
    "wiki_datasets"
   ]
  },
  {
   "cell_type": "code",
   "execution_count": 16,
   "id": "d0efb12b",
   "metadata": {},
   "outputs": [
    {
     "data": {
      "text/plain": [
       "{'id': '68504122',\n",
       " 'url': 'https://en.wikipedia.org/wiki/Church%20of%20St.%20Peter%20and%20Paul%2C%20Topolje',\n",
       " 'title': 'Church of St. Peter and Paul, Topolje',\n",
       " 'text': 'The Church of St. Peter and Paul (, , ) in Topolje is a Roman Catholic church in Baranya and Podunavlje region in eastern Croatia. The church was built in 1722 at the site where Prince Eugene of Savoy defeated Kara Mustafa Pasha on 12 August 1687. (Note that the year may be inaccurate, as Kara Mustafa was executed shortly after the Battle of Vienna in 1683.) It is the oldest preserved church in Baranja. Today, the church is a cultural monument of the 1st category and is one of the most important baroque sacral buildings in Croatia. The village of Topolje is the seat of the parish of St. Peter and Paul  founded in 1247 and reestablished in 1775, which today is a part of the Roman Catholic Archdiocese of Đakovo-Osijek. The church is known in the region after the mystic story about three failed attempts to build a church tower. By this story the church is allegedly located on the site of a Turkish cemetery that is the reason why the tower with the cross on the church tower did not survive at any of the three attempts. Other versions of the story mention witches turning around during Mass, and for a while there were rumors that the radios in the vehicles were making noise when passing at the road next to the church.\\n\\nSee also\\n Catholic Church in Croatia\\n Draž\\n\\nReferences\\n\\nBaroque church buildings in Croatia\\n18th-century Roman Catholic church buildings in Croatia\\nRoman Catholic churches completed in 1722\\nBuildings and structures in Osijek-Baranja County\\nReportedly haunted locations',\n",
       " 'ner': ['The Church of St. Peter',\n",
       "  'Paul',\n",
       "  'Topolje',\n",
       "  'Roman Catholic',\n",
       "  'Baranya',\n",
       "  'Podunavlje',\n",
       "  'Croatia',\n",
       "  '1722',\n",
       "  'Kara Mustafa Pasha',\n",
       "  '12 August 1687',\n",
       "  'the year',\n",
       "  'Kara Mustafa',\n",
       "  'the Battle of Vienna',\n",
       "  '1683',\n",
       "  'Baranja',\n",
       "  'Today',\n",
       "  '1st',\n",
       "  'Croatia',\n",
       "  'Topolje',\n",
       "  'St. Peter',\n",
       "  'Paul',\n",
       "  '1247',\n",
       "  '1775',\n",
       "  'today',\n",
       "  'the Roman Catholic Archdiocese',\n",
       "  'Đakovo-Osijek',\n",
       "  'about three',\n",
       "  'Turkish',\n",
       "  'three',\n",
       "  'Catholic Church',\n",
       "  'Croatia',\n",
       "  '18th-century',\n",
       "  'Roman Catholic',\n",
       "  'Croatia',\n",
       "  'Roman Catholic',\n",
       "  '1722',\n",
       "  'Osijek-Baranja County']}"
      ]
     },
     "execution_count": 16,
     "metadata": {},
     "output_type": "execute_result"
    }
   ],
   "source": [
    "wiki_datasets[3700000]"
   ]
  },
  {
   "cell_type": "code",
   "execution_count": 3,
   "id": "d0239dc1",
   "metadata": {},
   "outputs": [],
   "source": [
    "def pre_process_wiki(num_proc = 1, selections = 100, batch_size = 1000):\n",
    "    import string\n",
    "    import random\n",
    "\n",
    "\n",
    "    import pandas as pd\n",
    "    import random    \n",
    "    import nltk\n",
    "    import math\n",
    "    \n",
    "    import evaluate\n",
    "    import numpy as np\n",
    "    \n",
    "    from datasets import load_dataset, load_metric\n",
    "    data_args = {\n",
    "        \"ner_mlm\": False,\n",
    "        \"ner_sgs_mlm\": True,\n",
    "        \"ner_mlm_prob\": 0.6\n",
    "    }\n",
    "\n",
    "    NER_MASK = \"<mask1>\"\n",
    "    NER_TOKEN_MASK = \"<mask2>\"\n",
    "    MLM_CONNECTOR = \"<conn1>\"\n",
    "    MLM_SGS_CONNECTOR = \"<conn2>\"\n",
    "    \n",
    "    text_column = \"text\"\n",
    "    summary_column = \"summary\"\n",
    "\n",
    "    #bertscore = load_metric('bertscore')\n",
    "\n",
    "    rouge = evaluate.load(\"rouge\")\n",
    "\n",
    "        \n",
    "    def get_other_text(sentence, text):\n",
    "        res = text.replace(sentence, \"\", 1)\n",
    "        if (len(res) == 0 and len(res.split()) == 0):\n",
    "            res = text\n",
    "        return res\n",
    "\n",
    "    def extract_entties_with_spacy(source, spacy_pipeline):\n",
    "        \n",
    "        list_entities = []\n",
    "\n",
    "        spacy_doc = spacy_pipeline(source)#, n_process=-1)\n",
    "        list_entities = [a.text for a in spacy_doc.ents]\n",
    "\n",
    "        return list_entities\n",
    "\n",
    "    \n",
    "    def mask_sentence(sentence, entities, prob_ner, prob_token):\n",
    "\n",
    "        tokens_sentence = sentence.translate(str.maketrans('', '', string.punctuation))\n",
    "        processed = sentence\n",
    "        tokens_sentnece_list = tokens_sentence.split()\n",
    "\n",
    "        tokens_sentnece_list_masking = np.zeros(len(tokens_sentnece_list))\n",
    "\n",
    "        for entity in entities:\n",
    "            if entity in sentence:\n",
    "                tokens_sentence = tokens_sentence.replace(entity, \"\")\n",
    "                if random.random() <= prob_ner:\n",
    "                    entity_tokens = entity.split()\n",
    "                    entity_length = len(entity_tokens)\n",
    "                    for tokens_index in range(len(tokens_sentnece_list)):\n",
    "                        tokens_seq = \" \".join(tokens_sentnece_list[tokens_index:tokens_index + entity_length])\n",
    "                        entity_seq = entity\n",
    "                        if tokens_seq == entity_seq:\n",
    "                            tokens_sentnece_list_masking[tokens_index:tokens_index + entity_length] = 2\n",
    "\n",
    "        for token_index in range(len(tokens_sentnece_list)):\n",
    "\n",
    "            token = tokens_sentnece_list[token_index]\n",
    "\n",
    "            if tokens_sentnece_list_masking[token_index] == 2:\n",
    "                # NER MASK\n",
    "                continue\n",
    "\n",
    "            if random.random() <= prob_token:\n",
    "                tokens_sentnece_list_masking[token_index] = 1\n",
    "            else :\n",
    "                tokens_sentnece_list_masking[token_index] = 0\n",
    "\n",
    "        result = []\n",
    "\n",
    "        for i in range(len(tokens_sentnece_list_masking)):\n",
    "            if tokens_sentnece_list_masking[i] == 2:\n",
    "                # if prev is mask2 then do not repeat\n",
    "                if i > 0 and tokens_sentnece_list_masking[i - 1] == 2:\n",
    "                    continue\n",
    "\n",
    "                result.append(NER_MASK)\n",
    "\n",
    "            elif tokens_sentnece_list_masking[i] == 1:\n",
    "                # if prev is mask1 then do not repeat\n",
    "                if i > 0 and tokens_sentnece_list_masking[i - 1] == 1:\n",
    "                    result.append(NER_TOKEN_MASK)\n",
    "\n",
    "            else:\n",
    "                result.append(tokens_sentnece_list[i])\n",
    "\n",
    "        processed = \" \".join(result)\n",
    "\n",
    "        label = \" \".join(np.where(tokens_sentnece_list_masking, tokens_sentnece_list, \"<unmasked>\"))\n",
    "\n",
    "        return [processed, label, tokens_sentnece_list_masking]\n",
    "    \n",
    "    def sentence_scorer(sentence, text, entities, rouge_score):\n",
    "\n",
    "        # count entities\n",
    "        entites_count = 0\n",
    "        for entity in entities:\n",
    "            if entity in sentence:\n",
    "                entites_count += 1\n",
    "        entites_score = (entites_count * 1.0) / 4\n",
    "\n",
    "        # bertscore\n",
    "        #bertscore_results = bertscore.compute(predictions=[sentence], references=[text], lang='en')\n",
    "\n",
    "#        bertscore_value = np.average(bertscore_results[\"f1\"])\n",
    "\n",
    "        return entites_score + rouge_score# + bertscore_value\n",
    "\n",
    "    \n",
    "    def to_sentences(text):\n",
    "        sentences = nltk.sent_tokenize(text)\n",
    "        texts = [get_other_text(sent, text) for sent in sentences]\n",
    "        \n",
    "        return (texts, sentences)\n",
    "    \n",
    "    def custom_train_preprocess(examples):\n",
    "    \n",
    "        #batch_texts = \". \".join(examples[text_column])\n",
    "        \n",
    "        \n",
    "        list_entities = []\n",
    "\n",
    "        #list_entities = extract_entties_with_spacy(batch_texts, spacy_pipeline)\n",
    "\n",
    "        all_texts = []\n",
    "        all_sentences = []\n",
    "        groups = []\n",
    "        for i in range(len(examples[text_column])):\n",
    "\n",
    "            preprocessed_exp = examples[text_column][i]\n",
    "\n",
    "        \n",
    "            texts, sentences = to_sentences(preprocessed_exp)\n",
    "            start_index = len(all_texts)\n",
    "        #   for tex in texts:\n",
    "        #        all_texts.append(tex)\n",
    "        #    for sen in sentences:\n",
    "        #        all_sentences.append(sen)\n",
    "            all_texts.extend(texts)\n",
    "            all_sentences.extend(sentences)\n",
    "            end_index = len(all_texts)\n",
    "            groups.append((start_index, end_index, sentences))\n",
    "\n",
    "        # compute rouge score for the whole batch\n",
    "    \n",
    "        result_rouge = rouge.compute(predictions=all_sentences, references=all_texts, rouge_types=[\"rouge1\"], use_aggregator=False)\n",
    "        rouge_scores = [score for score in result_rouge.get(\"rouge1\")]\n",
    "        #rouge_scores = [random.random() for sent in all_sentences]\n",
    "        \n",
    "            \n",
    "        documents = []\n",
    "        summaries = []\n",
    "        mlm_labels = []\n",
    "        for i in range(len(examples[text_column])):\n",
    "\n",
    "            preprocessed_exp = examples[text_column][i]\n",
    "\n",
    "#            list_entities = extract_entties_with_spacy(preprocessed_exp, spacy_pipeline)\n",
    "            list_entities = examples[\"ner\"][i]\n",
    "            \n",
    "          #  texts, sentences = to_sentences(preprocessed_exp)\n",
    "\n",
    "            sentences = groups[i][2]\n",
    "            this_rouge_scores = rouge_scores[groups[i][0]:groups[i][1]]\n",
    "            \n",
    "         #   result_rouge = rouge.compute(predictions=sentences, references=texts, use_stemmer=True, use_aggregator=False)\n",
    "          #  rouge_scores = [score.fmeasure for score in result_rouge.get(\"rouge1\")]\n",
    "            \n",
    "            examples_data = {\n",
    "                \"sentence\": sentences,\n",
    "           #     \"rouge1\": rouge_scores\n",
    "                \"rouge1\": this_rouge_scores\n",
    "            }\n",
    "\n",
    "            df = pd.DataFrame(examples_data)\n",
    "            df[\"score\"] = df.apply(lambda x: sentence_scorer(x[\"sentence\"], preprocessed_exp, list_entities, x[\"rouge1\"]), axis=1)\n",
    "            df.sort_values(\"score\", ascending=False, inplace=True)\n",
    "            df[\"normalized_score\"] = df[\"score\"].map(lambda x: x / (df[\"score\"].max() + 0.001))\n",
    "            df[\"masked_labels\"] = df.apply(\n",
    "                lambda x: \n",
    "                    mask_sentence(x[\"sentence\"], list_entities, data_args[\"ner_mlm_prob\"], x[\"normalized_score\"] * (0.1 + data_args[\"ner_mlm_prob\"]))\n",
    "                          , \n",
    "                axis=1)\n",
    "            df[\"masked\"] = df[\"masked_labels\"].map(lambda x: x[0] )\n",
    "            df[\"labels\"] = df[\"masked_labels\"].map(lambda x: x[1])\n",
    "            \n",
    "            #df[\"num_masked1\"] = df[\"masked\"].map(lambda x: x.count(\"<mask1>\"))\n",
    "            #df[\"num_masked2\"] = df[\"masked\"].map(lambda x: x.count(\"<mask2>\"))\n",
    "            #df[\"length\"] = df[\"sentence\"].map(lambda x: len(x.split()))\n",
    "            #df[\"length_masked\"] = df[\"masked\"].map(lambda x: len(x.split()))\n",
    "            #df[\"masked_prob\"] = df.apply(lambda x: ((x[\"num_masked2\"] + x[\"num_masked1\"]) + (x[\"length\"] - x[\"length_masked\"])) / x[\"length\"], axis=1)\n",
    "\n",
    "\n",
    "            #print(df)\n",
    "            \n",
    "            if data_args[\"ner_mlm\"]:\n",
    "                # mlm for faithfull\n",
    "                summary = \" \".join(df[\"sentence\"].sort_index( ))\n",
    "            elif data_args[\"ner_sgs_mlm\"]:\n",
    "                # mlm-sgs for faithfull\n",
    "                num_sentences = df.shape[0] * 0.25\n",
    "                num_sentences = int(round(num_sentences, 0))\n",
    "                num_sentences = 1 if num_sentences == 0 else num_sentences\n",
    "                summary = \" \".join(df.head(num_sentences).sort_index( )[\"sentence\"])\n",
    "\n",
    "            preprocessed_exp = \" \".join(df[\"masked\"].sort_index())\n",
    "            if data_args[\"ner_mlm\"]:\n",
    "                preprocessed_exp = \" \".join([MLM_CONNECTOR, preprocessed_exp])\n",
    "            elif  data_args[\"ner_sgs_mlm\"]:\n",
    "                preprocessed_exp = \" \".join([MLM_CONNECTOR, MLM_SGS_CONNECTOR, preprocessed_exp])\n",
    "\n",
    "\n",
    "            #print(df.sort_index())\n",
    "            #print(df.describe())\n",
    "\n",
    "            mlm_labels.append(\" \".join(df[\"labels\"].sort_index( )))\n",
    "            summaries.append(summary)\n",
    "            documents.append(preprocessed_exp)\n",
    "\n",
    "        new_examples = {}\n",
    "        new_examples[text_column] = documents\n",
    "        new_examples[summary_column] = summaries\n",
    "        new_examples[\"mlm_label\"] = mlm_labels\n",
    "        return new_examples\n",
    "    \n",
    "    return wiki_datasets.select(range(selections)).map(\n",
    "        custom_train_preprocess,\n",
    "        batched=True,\n",
    "        num_proc=num_proc,\n",
    "        batch_size=batch_size\n",
    "    )\n",
    "    "
   ]
  },
  {
   "cell_type": "code",
   "execution_count": 40,
   "id": "284c1fcf",
   "metadata": {},
   "outputs": [],
   "source": [
    "sample = pre_process_wiki(num_proc=1, selections=200, batch_size=100)"
   ]
  },
  {
   "cell_type": "code",
   "execution_count": null,
   "id": "0493586f",
   "metadata": {},
   "outputs": [],
   "source": [
    "sample[\"text\"][3]"
   ]
  },
  {
   "cell_type": "code",
   "execution_count": null,
   "id": "85c06212",
   "metadata": {},
   "outputs": [],
   "source": [
    "sample[\"mlm_label\"][3]"
   ]
  },
  {
   "cell_type": "code",
   "execution_count": null,
   "id": "c9416bbc",
   "metadata": {},
   "outputs": [],
   "source": [
    "sample[\"summary\"][3]"
   ]
  },
  {
   "cell_type": "code",
   "execution_count": 14,
   "id": "5bc41113",
   "metadata": {},
   "outputs": [
    {
     "data": {
      "application/vnd.jupyter.widget-view+json": {
       "model_id": "660eb7e77e4d40c7b0ad976a1c0155c1",
       "version_major": 2,
       "version_minor": 0
      },
      "text/plain": [
       "Map (num_proc=10):   0%|          | 0/20000 [00:00<?, ? examples/s]"
      ]
     },
     "metadata": {},
     "output_type": "display_data"
    }
   ],
   "source": [
    "sample = pre_process_wiki(num_proc=10, selections=20000, batch_size=2000)"
   ]
  },
  {
   "cell_type": "code",
   "execution_count": 15,
   "id": "02d9e673",
   "metadata": {},
   "outputs": [
    {
     "data": {
      "application/vnd.jupyter.widget-view+json": {
       "model_id": "6765410105de4cd8b7f8533fa3562589",
       "version_major": 2,
       "version_minor": 0
      },
      "text/plain": [
       "Map (num_proc=14):   0%|          | 0/20000 [00:00<?, ? examples/s]"
      ]
     },
     "metadata": {},
     "output_type": "display_data"
    }
   ],
   "source": [
    "sample = pre_process_wiki(num_proc=14, selections=20000, batch_size=100)"
   ]
  },
  {
   "cell_type": "code",
   "execution_count": 16,
   "id": "1252958a",
   "metadata": {},
   "outputs": [
    {
     "data": {
      "application/vnd.jupyter.widget-view+json": {
       "model_id": "c2b4cc065d6645a393ae7636822311f2",
       "version_major": 2,
       "version_minor": 0
      },
      "text/plain": [
       "Map (num_proc=14):   0%|          | 0/20000 [00:00<?, ? examples/s]"
      ]
     },
     "metadata": {},
     "output_type": "display_data"
    }
   ],
   "source": [
    "sample = pre_process_wiki(num_proc=14, selections=20000, batch_size=1000)"
   ]
  },
  {
   "cell_type": "code",
   "execution_count": 9,
   "id": "f0c4fe5e",
   "metadata": {},
   "outputs": [
    {
     "data": {
      "application/vnd.jupyter.widget-view+json": {
       "model_id": "2bd2f303107b44ab8513999cfe79a6ef",
       "version_major": 2,
       "version_minor": 0
      },
      "text/plain": [
       "Map (num_proc=14):   0%|          | 0/20000 [00:00<?, ? examples/s]"
      ]
     },
     "metadata": {},
     "output_type": "display_data"
    }
   ],
   "source": [
    "sample = pre_process_wiki(num_proc=14, selections=20000, batch_size=500)"
   ]
  },
  {
   "cell_type": "code",
   "execution_count": 18,
   "id": "95929bf4",
   "metadata": {},
   "outputs": [
    {
     "data": {
      "application/vnd.jupyter.widget-view+json": {
       "model_id": "da7cfb7e601c40dfae159a47209ef8dc",
       "version_major": 2,
       "version_minor": 0
      },
      "text/plain": [
       "Map (num_proc=14):   0%|          | 0/40000 [00:00<?, ? examples/s]"
      ]
     },
     "metadata": {},
     "output_type": "display_data"
    }
   ],
   "source": [
    "sample = pre_process_wiki(num_proc=14, selections=40000, batch_size=5000)"
   ]
  },
  {
   "cell_type": "code",
   "execution_count": 48,
   "id": "f3e3dd45",
   "metadata": {},
   "outputs": [
    {
     "data": {
      "application/vnd.jupyter.widget-view+json": {
       "model_id": "afe94e4900994e52911850491d2fb592",
       "version_major": 2,
       "version_minor": 0
      },
      "text/plain": [
       "Map (num_proc=14):   0%|          | 0/20000 [00:00<?, ? examples/s]"
      ]
     },
     "metadata": {},
     "output_type": "display_data"
    }
   ],
   "source": [
    "sample = pre_process_wiki(num_proc=14, selections=20000, batch_size=2000)"
   ]
  },
  {
   "cell_type": "code",
   "execution_count": 15,
   "id": "25f037e9",
   "metadata": {},
   "outputs": [
    {
     "data": {
      "application/vnd.jupyter.widget-view+json": {
       "model_id": "c5b1ff70cf534a94911f1773e7db2ae5",
       "version_major": 2,
       "version_minor": 0
      },
      "text/plain": [
       "Map:   0%|          | 0/10 [00:00<?, ? examples/s]"
      ]
     },
     "metadata": {},
     "output_type": "display_data"
    }
   ],
   "source": [
    "sample = pre_process_wiki(num_proc=1, selections=10, batch_size=300)"
   ]
  },
  {
   "cell_type": "code",
   "execution_count": 4,
   "id": "fe486b68",
   "metadata": {
    "scrolled": true
   },
   "outputs": [
    {
     "data": {
      "application/vnd.jupyter.widget-view+json": {
       "model_id": "e0c5451ccd634c21aa233f9d7fb0d933",
       "version_major": 2,
       "version_minor": 0
      },
      "text/plain": [
       "Map (num_proc=14):   0%|          | 0/3767787 [00:00<?, ? examples/s]"
      ]
     },
     "metadata": {},
     "output_type": "display_data"
    }
   ],
   "source": [
    "wiki_dataset_mlm = pre_process_wiki(num_proc=14, selections=wiki_datasets.shape[0], batch_size=300)"
   ]
  },
  {
   "cell_type": "code",
   "execution_count": 5,
   "id": "b8069dbc",
   "metadata": {},
   "outputs": [
    {
     "data": {
      "application/vnd.jupyter.widget-view+json": {
       "model_id": "22cedbc9fef1486aba6dde6e8aa19f21",
       "version_major": 2,
       "version_minor": 0
      },
      "text/plain": [
       "Saving the dataset (0/62 shards):   0%|          | 0/3767787 [00:00<?, ? examples/s]"
      ]
     },
     "metadata": {},
     "output_type": "display_data"
    }
   ],
   "source": [
    "wiki_dataset_mlm.save_to_disk(\"G:\\.cache\\huggingface\\datasets\\mlm\\wiki_mlm\")"
   ]
  },
  {
   "cell_type": "code",
   "execution_count": 11,
   "id": "b6a59d32",
   "metadata": {},
   "outputs": [
    {
     "data": {
      "text/plain": [
       "Dataset({\n",
       "    features: ['id', 'url', 'title', 'text', 'ner'],\n",
       "    num_rows: 3767787\n",
       "})"
      ]
     },
     "execution_count": 11,
     "metadata": {},
     "output_type": "execute_result"
    }
   ],
   "source": [
    "wiki_datasets"
   ]
  },
  {
   "cell_type": "code",
   "execution_count": 12,
   "id": "7c5dea0b",
   "metadata": {},
   "outputs": [
    {
     "data": {
      "application/vnd.jupyter.widget-view+json": {
       "model_id": "fc9495c082e543b8b312fd29351b4524",
       "version_major": 2,
       "version_minor": 0
      },
      "text/plain": [
       "Map (num_proc=14):   0%|          | 0/2000 [00:00<?, ? examples/s]"
      ]
     },
     "metadata": {},
     "output_type": "display_data"
    }
   ],
   "source": [
    "wiki_dataset_mlm_sgs = pre_process_wiki(num_proc=14, selections=2000, batch_size=300)"
   ]
  },
  {
   "cell_type": "code",
   "execution_count": 15,
   "id": "e5a4cd30",
   "metadata": {},
   "outputs": [
    {
     "data": {
      "text/plain": [
       "{'id': '580',\n",
       " 'url': 'https://en.wikipedia.org/wiki/Astronomer',\n",
       " 'title': 'Astronomer',\n",
       " 'text': '<conn1> <conn2> astronomer is a scientist in the field of astronomy who focuses studies on a specific question or field outside the scope <mask1> They observe astronomical objects such stars planets moons comets and galaxies – in either observational by analyzing the data or theoretical astronomy Examples of topics or fields astronomers study include planetary science solar the origin or evolution of stars or the formation of galaxies A related but distinct is physical cosmology which studies the Universe as a whole Types Astronomers fall under either <mask1> main types observational and theoretical Observational astronomers make direct observations of celestial objects and analyze the data In contrast theoretical astronomers create and investigate models of things that cannot be observed Because it takes <mask1> of <mask2> a of stars or a galaxy to complete a life cycle astronomers must observe of different systems at unique points in their to determine how they form evolve and die They use these data to create models or simulations to theorize how different celestial objects work Further subcategories under these <mask1> main branches of astronomy include planetary astronomy galactic or physical cosmology Academic Historically astronomy was more concerned with the classification and description of phenomena in the sky while astrophysics attempted to explain these phenomena and the differences between them using physical laws <mask1> that distinction has mostly disappeared and the terms astronomer and astrophysicist are interchangeable Professional astronomers are highly educated individuals who have a <mask1> in physics astronomy and employed by institutions or universities They spend the majority of their time working on research although they quite often have other duties such as teaching building instruments or aiding in the operation of an observatory <mask1> which is major organization of astronomers in <mask1> has 7000 members This number includes scientists from other fields such as physics geology and engineering whose research are closely related to astronomy <mask2> Astronomical Union <mask2> <mask2> <mask2> <mask2> <mask1> <mask2> <mask2> are <mask2> <mask2> <mask2> <mask2> <mask2> <mask1> level and Contrary to the classical image an old astronomer peering a telescope through <mask1> it is far more common <mask2> a device <mask1> camera to a deep exposure allowing a more image be created because the light is added over Before CCDs photographic plates were a method of Modern astronomers spend relatively little time at telescopes usually just a few weeks per year Analysis of observed phenomena along with making predictions as to the causes of what they observe takes the majority of observational astronomers time Astronomers who serve as faculty spend much of their time teaching undergraduate and graduate classes Most universities also have outreach programs including public telescope time and sometimes planetariums as a public service to encourage interest in the field Those who become astronomers usually have a broad background in maths sciences and computing in high school Taking courses that teach how to research write and present papers are also invaluable In collegeuniversity most astronomers get a <mask1> in astronomy or Amateur astronomers While there is a relatively low number of professional astronomers the field popular among amateurs Most cities have amateur astronomy clubs that meet on a regular basis and often host star parties <mask1> the largest <mask2> society <mask2> <mask2> <mask2> <mask2> professional amateur astronomers as as from <mask1> nations Like hobby most people who think of themselves as amateur may devote <mask1> a month to stargazing reading latest developments research However amateurs span the range from socalled armchair astronomers to the very ambitious who own sciencegrade telescopes and instruments with which they are able to make their own discoveries and assist professional astronomers in research also <mask2> astronomers <mask2> <mask2> <mask2> <mask2> <mask2> Muslim astronomers List <mask1> astronomers of <mask2> <mask2> <mask2> <mask1> astronomers and astrophysicists <mask2> <mask1> astronomers Sources <mask2> American Astronomical <mask2> <mask2> <mask2> International <mask2> <mask2> <mask2> of the Pacific Spaces <mask2> <mask2> <mask2> <mask2>',\n",
       " 'ner': ['Earth',\n",
       "  'Universe',\n",
       "  'two',\n",
       "  'millions to billions',\n",
       "  'two',\n",
       "  'Today',\n",
       "  'PhD',\n",
       "  'The American Astronomical Society',\n",
       "  'North America',\n",
       "  'approximately 7,000',\n",
       "  'The International Astronomical Union',\n",
       "  'almost 10,145',\n",
       "  '70',\n",
       "  'PhD',\n",
       "  'the dark hours of the night',\n",
       "  'CCD',\n",
       "  'PhD',\n",
       "  'The Astronomical Society of the Pacific',\n",
       "  '70',\n",
       "  'a few hours',\n",
       "  'Muslim',\n",
       "  'French',\n",
       "  'Hungarian',\n",
       "  'Russian',\n",
       "  'Slovenian',\n",
       "  'Astronomy\\n \\nScience'],\n",
       " 'summary': \"Further subcategories under these two main branches of astronomy include planetary astronomy, galactic astronomy, or physical cosmology. Professional astronomers are highly educated individuals who typically have a PhD in physics or astronomy and are employed by research institutions or universities. The American Astronomical Society, which is the major organization of professional astronomers in North America, has approximately 7,000 members. The International Astronomical Union comprises almost 10,145 members from 70 different countries who are involved in astronomical research at the PhD level and beyond. Contrary to the classical image of an old astronomer peering through a telescope through the dark hours of the night, it is far more common to use a charge-coupled device (CCD) camera to record a long, deep exposure, allowing a more sensitive image to be created because the light is added over time. In college/university most astronomers get a PhD in astronomy or physics. The Astronomical Society of the Pacific is the largest general astronomical society in the world, comprising both professional and amateur astronomers as well as educators from 70 different nations. See also \\n List of astronomers\\n List of women astronomers\\n List of Muslim astronomers\\n List of French astronomers\\n List of Hungarian astronomers\\n List of Russian astronomers and astrophysicists\\n List of Slovenian astronomers\\n\\nReferences\\n\\nSources\\n\\nExternal links \\n American Astronomical Society\\n European Astronomical Society\\n International Astronomical Union\\n Astronomical Society of the Pacific\\n Space's astronomy news\\n\\nAstronomy\\n \\nScience occupations\",\n",
       " 'mlm_label': 'An <unmasked> <unmasked> <unmasked> <unmasked> <unmasked> <unmasked> <unmasked> <unmasked> <unmasked> <unmasked> <unmasked> their <unmasked> <unmasked> <unmasked> <unmasked> <unmasked> <unmasked> <unmasked> <unmasked> <unmasked> <unmasked> of Earth <unmasked> <unmasked> <unmasked> <unmasked> <unmasked> as <unmasked> <unmasked> <unmasked> <unmasked> <unmasked> <unmasked> <unmasked> <unmasked> <unmasked> <unmasked> <unmasked> <unmasked> <unmasked> <unmasked> <unmasked> <unmasked> <unmasked> <unmasked> <unmasked> <unmasked> <unmasked> <unmasked> <unmasked> <unmasked> <unmasked> <unmasked> <unmasked> <unmasked> astronomy <unmasked> <unmasked> <unmasked> <unmasked> <unmasked> <unmasked> <unmasked> <unmasked> <unmasked> <unmasked> <unmasked> <unmasked> <unmasked> <unmasked> <unmasked> subject <unmasked> <unmasked> <unmasked> <unmasked> <unmasked> <unmasked> <unmasked> <unmasked> <unmasked> <unmasked> <unmasked> <unmasked> usually <unmasked> <unmasked> <unmasked> of two <unmasked> <unmasked> <unmasked> <unmasked> <unmasked> <unmasked> <unmasked> <unmasked> <unmasked> <unmasked> <unmasked> <unmasked> <unmasked> <unmasked> <unmasked> <unmasked> <unmasked> <unmasked> <unmasked> <unmasked> <unmasked> <unmasked> <unmasked> <unmasked> <unmasked> <unmasked> <unmasked> <unmasked> <unmasked> <unmasked> <unmasked> <unmasked> <unmasked> <unmasked> millions to billions <unmasked> years for <unmasked> system <unmasked> <unmasked> <unmasked> <unmasked> <unmasked> <unmasked> <unmasked> <unmasked> <unmasked> <unmasked> <unmasked> <unmasked> <unmasked> snapshots <unmasked> <unmasked> <unmasked> <unmasked> <unmasked> <unmasked> <unmasked> <unmasked> evolution <unmasked> <unmasked> <unmasked> <unmasked> <unmasked> <unmasked> <unmasked> <unmasked> <unmasked> <unmasked> <unmasked> <unmasked> <unmasked> <unmasked> <unmasked> <unmasked> <unmasked> <unmasked> <unmasked> <unmasked> <unmasked> <unmasked> <unmasked> <unmasked> <unmasked> <unmasked> <unmasked> <unmasked> two <unmasked> <unmasked> <unmasked> <unmasked> <unmasked> <unmasked> <unmasked> <unmasked> astronomy <unmasked> <unmasked> <unmasked> <unmasked> <unmasked> <unmasked> <unmasked> <unmasked> <unmasked> <unmasked> <unmasked> <unmasked> <unmasked> <unmasked> <unmasked> <unmasked> <unmasked> <unmasked> <unmasked> <unmasked> <unmasked> <unmasked> <unmasked> <unmasked> <unmasked> <unmasked> <unmasked> <unmasked> <unmasked> <unmasked> <unmasked> <unmasked> <unmasked> <unmasked> Today <unmasked> <unmasked> <unmasked> <unmasked> <unmasked> <unmasked> <unmasked> <unmasked> <unmasked> <unmasked> <unmasked> <unmasked> <unmasked> <unmasked> <unmasked> <unmasked> <unmasked> <unmasked> <unmasked> <unmasked> typically <unmasked> <unmasked> PhD <unmasked> <unmasked> or <unmasked> <unmasked> are <unmasked> <unmasked> research <unmasked> <unmasked> <unmasked> <unmasked> <unmasked> <unmasked> <unmasked> <unmasked> <unmasked> <unmasked> <unmasked> <unmasked> <unmasked> <unmasked> <unmasked> <unmasked> <unmasked> <unmasked> <unmasked> <unmasked> <unmasked> <unmasked> <unmasked> <unmasked> <unmasked> <unmasked> <unmasked> <unmasked> <unmasked> <unmasked> <unmasked> <unmasked> <unmasked> The American Astronomical Society <unmasked> <unmasked> the <unmasked> <unmasked> <unmasked> professional <unmasked> <unmasked> North America <unmasked> approximately <unmasked> <unmasked> <unmasked> <unmasked> <unmasked> <unmasked> <unmasked> <unmasked> <unmasked> <unmasked> <unmasked> <unmasked> <unmasked> <unmasked> <unmasked> <unmasked> <unmasked> interests <unmasked> <unmasked> <unmasked> <unmasked> <unmasked> The International <unmasked> <unmasked> comprises almost 10145 members from 70 different countries who <unmasked> involved in astronomical research at the PhD <unmasked> <unmasked> beyond <unmasked> <unmasked> <unmasked> <unmasked> <unmasked> of <unmasked> <unmasked> <unmasked> <unmasked> through <unmasked> <unmasked> <unmasked> the dark hours of the night <unmasked> <unmasked> <unmasked> <unmasked> <unmasked> to use <unmasked> chargecoupled <unmasked> CCD <unmasked> <unmasked> record <unmasked> long <unmasked> <unmasked> <unmasked> <unmasked> <unmasked> sensitive <unmasked> to <unmasked> <unmasked> <unmasked> <unmasked> <unmasked> <unmasked> <unmasked> <unmasked> time <unmasked> <unmasked> <unmasked> <unmasked> <unmasked> <unmasked> common <unmasked> <unmasked> observation <unmasked> <unmasked> <unmasked> <unmasked> <unmasked> <unmasked> <unmasked> <unmasked> <unmasked> <unmasked> <unmasked> <unmasked> <unmasked> <unmasked> <unmasked> <unmasked> <unmasked> <unmasked> <unmasked> <unmasked> <unmasked> <unmasked> <unmasked> <unmasked> <unmasked> <unmasked> <unmasked> <unmasked> <unmasked> <unmasked> <unmasked> <unmasked> <unmasked> <unmasked> <unmasked> <unmasked> <unmasked> <unmasked> <unmasked> <unmasked> <unmasked> <unmasked> <unmasked> <unmasked> <unmasked> <unmasked> <unmasked> <unmasked> <unmasked> <unmasked> <unmasked> <unmasked> <unmasked> <unmasked> <unmasked> <unmasked> <unmasked> <unmasked> <unmasked> <unmasked> <unmasked> <unmasked> <unmasked> <unmasked> <unmasked> <unmasked> <unmasked> <unmasked> <unmasked> <unmasked> <unmasked> <unmasked> <unmasked> <unmasked> <unmasked> <unmasked> <unmasked> <unmasked> <unmasked> <unmasked> <unmasked> <unmasked> <unmasked> <unmasked> <unmasked> <unmasked> <unmasked> <unmasked> <unmasked> <unmasked> <unmasked> <unmasked> <unmasked> <unmasked> <unmasked> <unmasked> <unmasked> <unmasked> <unmasked> <unmasked> <unmasked> <unmasked> <unmasked> <unmasked> <unmasked> <unmasked> <unmasked> <unmasked> <unmasked> <unmasked> <unmasked> <unmasked> <unmasked> PhD <unmasked> <unmasked> <unmasked> physics <unmasked> <unmasked> <unmasked> <unmasked> <unmasked> <unmasked> <unmasked> <unmasked> <unmasked> <unmasked> <unmasked> <unmasked> <unmasked> <unmasked> is <unmasked> <unmasked> <unmasked> <unmasked> <unmasked> <unmasked> <unmasked> <unmasked> <unmasked> <unmasked> <unmasked> <unmasked> <unmasked> <unmasked> <unmasked> <unmasked> <unmasked> <unmasked> <unmasked> <unmasked> The Astronomical Society of the Pacific is <unmasked> <unmasked> general astronomical <unmasked> in the world comprising both <unmasked> and <unmasked> <unmasked> <unmasked> well <unmasked> educators <unmasked> 70 different <unmasked> <unmasked> any <unmasked> <unmasked> <unmasked> <unmasked> <unmasked> <unmasked> <unmasked> <unmasked> <unmasked> astronomers <unmasked> <unmasked> a few hours <unmasked> <unmasked> <unmasked> <unmasked> and <unmasked> the <unmasked> <unmasked> in <unmasked> <unmasked> <unmasked> <unmasked> <unmasked> <unmasked> <unmasked> <unmasked> <unmasked> <unmasked> <unmasked> <unmasked> <unmasked> <unmasked> <unmasked> <unmasked> <unmasked> <unmasked> <unmasked> <unmasked> <unmasked> <unmasked> <unmasked> <unmasked> <unmasked> <unmasked> <unmasked> <unmasked> <unmasked> <unmasked> <unmasked> <unmasked> <unmasked> <unmasked> <unmasked> <unmasked> See <unmasked> List of <unmasked> List of women astronomers List of <unmasked> <unmasked> <unmasked> of French <unmasked> List <unmasked> Hungarian astronomers List of Russian <unmasked> <unmasked> <unmasked> List of Slovenian <unmasked> References <unmasked> External links <unmasked> <unmasked> Society European Astronomical Society <unmasked> Astronomical Union Astronomical Society <unmasked> <unmasked> <unmasked> <unmasked> astronomy news Astronomy Science occupations'}"
      ]
     },
     "execution_count": 15,
     "metadata": {},
     "output_type": "execute_result"
    }
   ],
   "source": [
    "wiki_dataset_mlm_sgs[5]"
   ]
  },
  {
   "cell_type": "code",
   "execution_count": 69,
   "id": "c1ad4165",
   "metadata": {},
   "outputs": [
    {
     "data": {
      "text/plain": [
       "11"
      ]
     },
     "execution_count": 69,
     "metadata": {},
     "output_type": "execute_result"
    }
   ],
   "source": [
    "len(nltk.sent_tokenize(wiki_dataset_mlm_sgs[9][\"text\"]))"
   ]
  },
  {
   "cell_type": "code",
   "execution_count": 68,
   "id": "a256b4bf",
   "metadata": {},
   "outputs": [
    {
     "data": {
      "text/plain": [
       "3"
      ]
     },
     "execution_count": 68,
     "metadata": {},
     "output_type": "execute_result"
    }
   ],
   "source": [
    "len(nltk.sent_tokenize(wiki_dataset_mlm_sgs[9][\"summary\"]))"
   ]
  },
  {
   "cell_type": "code",
   "execution_count": null,
   "id": "331ac2ad",
   "metadata": {},
   "outputs": [
    {
     "data": {
      "application/vnd.jupyter.widget-view+json": {
       "model_id": "cb0414757938478ea865c150910b44ce",
       "version_major": 2,
       "version_minor": 0
      },
      "text/plain": [
       "Map (num_proc=14):   0%|          | 0/3767787 [00:00<?, ? examples/s]"
      ]
     },
     "metadata": {},
     "output_type": "display_data"
    }
   ],
   "source": [
    "wiki_dataset_mlm_sgs = pre_process_wiki(num_proc=14, selections=wiki_datasets.shape[0], batch_size=300)"
   ]
  },
  {
   "cell_type": "code",
   "execution_count": 11,
   "id": "c2825df2",
   "metadata": {},
   "outputs": [
    {
     "data": {
      "application/vnd.jupyter.widget-view+json": {
       "model_id": "b7b55a793cbb4488bc0d404bada568dc",
       "version_major": 2,
       "version_minor": 0
      },
      "text/plain": [
       "Saving the dataset (0/52 shards):   0%|          | 0/3767787 [00:00<?, ? examples/s]"
      ]
     },
     "metadata": {},
     "output_type": "display_data"
    }
   ],
   "source": [
    "wiki_dataset_mlm_sgs.save_to_disk(\"G:\\.cache\\huggingface\\datasets\\mlm\\wiki_mlm_sgs\")"
   ]
  },
  {
   "cell_type": "code",
   "execution_count": 73,
   "id": "bc5029a2",
   "metadata": {},
   "outputs": [
    {
     "data": {
      "text/plain": [
       "Dataset({\n",
       "    features: ['id', 'url', 'title', 'text', 'ner', 'summary'],\n",
       "    num_rows: 3767787\n",
       "})"
      ]
     },
     "execution_count": 73,
     "metadata": {},
     "output_type": "execute_result"
    }
   ],
   "source": [
    "wiki_dataset_mlm"
   ]
  },
  {
   "cell_type": "code",
   "execution_count": 7,
   "id": "17bce81c",
   "metadata": {},
   "outputs": [
    {
     "data": {
      "text/plain": [
       "'<conn1> <conn2> <mask1> recognizes for art direction in film The <mask2> name <mask1> but was to its current name in <mask1> for the 85th Awards This change resulted from the Art Directors of <mask1> AMPAS renamed Designers Since <mask1> the award is shared with the set decorators It is awarded to the best interior design in a film The films are listed with <mask1> for example the Academy Award <mask1> given to a film <mask1> the lists below the winner of the award for <mask1> is shown first followed by the other nominees alphabetical order Winners and <mask1> 1940s <mask1> 2000s <mask1> <mask2> <mask2> <mask2> <mask2> <mask2> <mask2> <mask2> Design Choice <mask2> <mask2> <mask2> <mask2> <mask2> Notes <mask2> <mask2> <mask2> <mask2> <mask2> <mask2> <mask2> <mask2>'"
      ]
     },
     "execution_count": 7,
     "metadata": {},
     "output_type": "execute_result"
    }
   ],
   "source": [
    "wiki_dataset_mlm_sgs[0][\"text\"]"
   ]
  },
  {
   "cell_type": "code",
   "execution_count": 10,
   "id": "d1a7f009",
   "metadata": {},
   "outputs": [
    {
     "data": {
      "text/plain": [
       "'Rhodactis inchoata <unmasked> <unmasked> as <unmasked> bullseye <unmasked> or Tonga <unmasked> <unmasked> <unmasked> <unmasked> species <unmasked> <unmasked> <unmasked> <unmasked> <unmasked> Rhodactis <unmasked> <unmasked> is also <unmasked> <unmasked> <unmasked> <unmasked> <unmasked> as <unmasked> <unmasked> <unmasked> <unmasked> <unmasked> <unmasked> <unmasked> <unmasked> species <unmasked> Rhodactis <unmasked> <unmasked> <unmasked> <unmasked> be <unmasked> <unmasked> aquariums <unmasked> <unmasked> prefers <unmasked> <unmasked> medium <unmasked> <unmasked> <unmasked> <unmasked> <unmasked> <unmasked> <unmasked> kept <unmasked> <unmasked> <unmasked> low <unmasked> <unmasked> <unmasked> movement <unmasked> <unmasked> this species <unmasked> <unmasked> <unmasked> as <unmasked> <unmasked> <unmasked> <unmasked> <unmasked> <unmasked> <unmasked> <unmasked> <unmasked> <unmasked> <unmasked> <unmasked> <unmasked> <unmasked> <unmasked> <unmasked> <unmasked> <unmasked> <unmasked> <unmasked> <unmasked> <unmasked> <unmasked> as <unmasked> <unmasked> lowwater <unmasked> <unmasked> <unmasked> <unmasked> <unmasked> <unmasked> <unmasked> <unmasked> <unmasked> <unmasked> aquarium <unmasked> <unmasked> <unmasked> <unmasked> <unmasked> <unmasked> <unmasked> <unmasked> <unmasked> <unmasked> <unmasked> <unmasked> the <unmasked> <unmasked> <unmasked> <unmasked> <unmasked> <unmasked> <unmasked> <unmasked> <unmasked> <unmasked> <unmasked> from <unmasked> <unmasked> <unmasked> <unmasked> <unmasked> <unmasked> disturb <unmasked> <unmasked> <unmasked> <unmasked> <unmasked> <unmasked> <unmasked> <unmasked> <unmasked> put <unmasked> <unmasked> <unmasked> <unmasked> <unmasked> <unmasked> <unmasked> <unmasked> to <unmasked> <unmasked> <unmasked> <unmasked> <unmasked> <unmasked> <unmasked> <unmasked> <unmasked> <unmasked> <unmasked> <unmasked> <unmasked> <unmasked> <unmasked> <unmasked> <unmasked> <unmasked> <unmasked> <unmasked> <unmasked> <unmasked> <unmasked> <unmasked> <unmasked> <unmasked> <unmasked> behaviour <unmasked> <unmasked> <unmasked> <unmasked> <unmasked> <unmasked> <unmasked> <unmasked> <unmasked> <unmasked> <unmasked> R <unmasked> <unmasked> a symbiotic relationship with <unmasked> species <unmasked> algae called <unmasked> and this species of <unmasked> <unmasked> <unmasked> within the tissues <unmasked> <unmasked> <unmasked> <unmasked> <unmasked> <unmasked> <unmasked> <unmasked> <unmasked> <unmasked> <unmasked> <unmasked> <unmasked> <unmasked> <unmasked> <unmasked> <unmasked> <unmasked> <unmasked> <unmasked> <unmasked> <unmasked> <unmasked> water <unmasked> <unmasked> <unmasked> <unmasked> <unmasked> R inchoata <unmasked> be found <unmasked> <unmasked> <unmasked> <unmasked> the <unmasked> <unmasked> <unmasked> R <unmasked> <unmasked> a small <unmasked> <unmasked> <unmasked> in with tentacles which <unmasked> <unmasked> <unmasked> which give this <unmasked> <unmasked> unique appearance when comparing <unmasked> <unmasked> other <unmasked> <unmasked> <unmasked> of <unmasked> <unmasked> <unmasked> <unmasked> <unmasked> <unmasked> <unmasked> <unmasked> <unmasked> <unmasked> <unmasked> <unmasked> <unmasked> <unmasked> <unmasked> The area around the <unmasked> disk of <unmasked> species is <unmasked> which <unmasked> R inochoata an <unmasked> <unmasked> to identify when going Scuba diving <unmasked> <unmasked> looking <unmasked> it <unmasked> <unmasked> can <unmasked> <unmasked> <unmasked> with <unmasked> bodies <unmasked> green <unmasked> highlights of <unmasked> <unmasked> <unmasked> <unmasked> green <unmasked> <unmasked> <unmasked> and while <unmasked> <unmasked> a red coloured <unmasked> <unmasked> <unmasked> <unmasked> <unmasked> <unmasked> <unmasked> <unmasked> <unmasked> <unmasked> <unmasked> oral <unmasked> <unmasked> <unmasked> <unmasked> <unmasked> <unmasked> <unmasked> <unmasked> <unmasked> <unmasked> <unmasked> <unmasked> <unmasked> <unmasked> <unmasked> <unmasked> <unmasked> <unmasked> <unmasked> <unmasked> <unmasked> <unmasked> <unmasked> <unmasked> <unmasked> <unmasked> <unmasked> <unmasked> R <unmasked> <unmasked> been <unmasked> to grow up to 15 <unmasked> 4 8 cm however the lifespan <unmasked> this <unmasked> <unmasked> <unmasked> been documented <unmasked> leaving people <unmasked> about how <unmasked> R <unmasked> <unmasked> for <unmasked> <unmasked> Rhodactis Cnidaria Mushroom <unmasked> <unmasked> <unmasked> Hexacorallia Corallimorpharia'"
      ]
     },
     "execution_count": 10,
     "metadata": {},
     "output_type": "execute_result"
    }
   ],
   "source": [
    "wiki_dataset_mlm_sgs[3767780][\"mlm_label\"]"
   ]
  },
  {
   "cell_type": "code",
   "execution_count": 75,
   "id": "60e389ac",
   "metadata": {},
   "outputs": [],
   "source": [
    "wiki_datasets1 = load_dataset(\n",
    "    \"wikipedia\",\n",
    "    \"20220301.en\",\n",
    "     cache_dir=\"G:\\.cache\\huggingface\\datasets\"\n",
    ")"
   ]
  },
  {
   "cell_type": "code",
   "execution_count": 76,
   "id": "947afc52",
   "metadata": {},
   "outputs": [
    {
     "data": {
      "text/plain": [
       "DatasetDict({\n",
       "    train: Dataset({\n",
       "        features: ['id', 'url', 'title', 'text'],\n",
       "        num_rows: 6458670\n",
       "    })\n",
       "})"
      ]
     },
     "execution_count": 76,
     "metadata": {},
     "output_type": "execute_result"
    }
   ],
   "source": [
    "wiki_datasets1"
   ]
  },
  {
   "cell_type": "code",
   "execution_count": 79,
   "id": "93b85290",
   "metadata": {},
   "outputs": [],
   "source": [
    "from datasets import DatasetDict"
   ]
  },
  {
   "cell_type": "code",
   "execution_count": 81,
   "id": "8bee615c",
   "metadata": {},
   "outputs": [
    {
     "data": {
      "text/plain": [
       "DatasetDict({\n",
       "    train: Dataset({\n",
       "        features: ['id', 'url', 'title', 'text', 'ner', 'summary'],\n",
       "        num_rows: 3767787\n",
       "    })\n",
       "})"
      ]
     },
     "execution_count": 81,
     "metadata": {},
     "output_type": "execute_result"
    }
   ],
   "source": [
    "DatasetDict({\"train\": wiki_dataset_mlm})"
   ]
  },
  {
   "cell_type": "code",
   "execution_count": 141,
   "id": "b7cdae45",
   "metadata": {},
   "outputs": [],
   "source": [
    "import string\n",
    "import numpy as np\n",
    "import random\n",
    "\n",
    "NER_MASK = \"<mask1>\"\n",
    "NER_TOKEN_MASK = \"<mask2>\"\n",
    "MLM_CONNECTOR = \"<conn1>\"\n",
    "MLM_SGS_CONNECTOR = \"<conn2>\"\n",
    "    \n",
    "def mask_sentence(sentence, entities, prob_ner, prob_token):\n",
    "\n",
    "    \n",
    "    tokens_sentence = sentence.translate(str.maketrans('', '', string.punctuation))\n",
    "    processed = sentence\n",
    "    tokens_sentnece_list = tokens_sentence.split()\n",
    "\n",
    "    tokens_sentnece_list_masking = np.zeros(len(tokens_sentnece_list))\n",
    "\n",
    "    for entity in entities:\n",
    "        if entity in sentence:\n",
    "            tokens_sentence = tokens_sentence.replace(entity, \"\")\n",
    "            if random.random() <= prob_ner:\n",
    "                entity_tokens = entity.split()\n",
    "                entity_length = len(entity_tokens)\n",
    "                for tokens_index in range(len(tokens_sentnece_list)):\n",
    "                    tokens_seq = \" \".join(tokens_sentnece_list[tokens_index:tokens_index + entity_length])\n",
    "                    entity_seq = entity\n",
    "                  #  print(\"entity_seq\", entity)\n",
    "                  #  print(\"tokens_seq\", tokens_seq)\n",
    "                    if tokens_seq == entity_seq:\n",
    "                        tokens_sentnece_list_masking[tokens_index:tokens_index + entity_length] = 2\n",
    "                        \n",
    "                #processed = sentence.replace(entity, NER_MASK)\n",
    "\n",
    "    for token_index in range(len(tokens_sentnece_list)):\n",
    "        \n",
    "        token = tokens_sentnece_list[token_index]\n",
    "        \n",
    "        if tokens_sentnece_list_masking[token_index] == 2:\n",
    "            # NER MASK\n",
    "            continue\n",
    "            \n",
    "        if random.random() <= prob_token:\n",
    "            tokens_sentnece_list_masking[token_index] = 1\n",
    "            #processed = processed.replace(\" \" + token, \" \" + NER_TOKEN_MASK, 1)\n",
    "            #processed = processed.replace(\" \" + token + \" \", \" \" + NER_TOKEN_MASK + \" \", 1)\n",
    "            #processed = processed.replace(token + \" \", NER_TOKEN_MASK + \" \", 1)\n",
    "        else :\n",
    "            tokens_sentnece_list_masking[token_index] = 0\n",
    "\n",
    "    result = []\n",
    "    \n",
    "    for i in range(len(tokens_sentnece_list_masking)):\n",
    "        if tokens_sentnece_list_masking[i] == 2:\n",
    "            # if prev is mask2 then do not repeat\n",
    "            if i > 0 and tokens_sentnece_list_masking[i - 1] == 2:\n",
    "                continue\n",
    "                \n",
    "            result.append(NER_MASK)\n",
    "            \n",
    "        elif tokens_sentnece_list_masking[i] == 1:\n",
    "            # if prev is mask1 then do not repeat\n",
    "            if True or i > 0 and tokens_sentnece_list_masking[i - 1] == 1:\n",
    "                result.append(NER_TOKEN_MASK)\n",
    "            \n",
    "        else:\n",
    "            result.append(tokens_sentnece_list[i])\n",
    "        \n",
    "    processed = \" \".join(result)\n",
    "    \n",
    "    label = \" \".join(np.where(tokens_sentnece_list_masking, tokens_sentnece_list, \"<unmasked>\"))\n",
    "    \n",
    "    return processed, \" \".join(np.where(tokens_sentnece_list_masking, tokens_sentnece_list, \"<unmasked>\")), tokens_sentnece_list_masking"
   ]
  },
  {
   "cell_type": "code",
   "execution_count": 84,
   "id": "976c3e42",
   "metadata": {},
   "outputs": [
    {
     "name": "stdout",
     "output_type": "stream",
     "text": [
      "some text <unmasked>\n",
      "<mask2> sentence\n"
     ]
    }
   ],
   "source": [
    "sentence = \"some text sentence\"\n",
    "masked, label, mask = mask_sentence(sentence, [], 0.5, 0.5)\n",
    "print(masks)\n",
    "print(masked)"
   ]
  },
  {
   "cell_type": "code",
   "execution_count": 32,
   "id": "c8018b0e",
   "metadata": {},
   "outputs": [
    {
     "data": {
      "text/plain": [
       "array(['unmasked', 'unmasked', 'sentence'], dtype='<U8')"
      ]
     },
     "execution_count": 32,
     "metadata": {},
     "output_type": "execute_result"
    }
   ],
   "source": [
    "np.where(masks, tokens, \"unmasked\")"
   ]
  },
  {
   "cell_type": "code",
   "execution_count": 35,
   "id": "c798d191",
   "metadata": {},
   "outputs": [],
   "source": [
    "from datasets import load_from_disk\n",
    "wiki_dataset = load_from_disk(\"G:\\.cache\\huggingface\\datasets\\wiki_100_1000\")"
   ]
  },
  {
   "cell_type": "code",
   "execution_count": 142,
   "id": "248d0fa0",
   "metadata": {},
   "outputs": [],
   "source": [
    "masked, label, mask = mask_sentence(wiki_dataset[\"train\"][0][\"text\"], [\n",
    "    \"The Academy Award for Best Production Design\",\n",
    "    \"Motion Picture Arts and Sciences (AMPAS)\",\n",
    "    \"Designer's \",\n",
    "    \"1999\"\n",
    "], 1, 0.3)"
   ]
  },
  {
   "cell_type": "code",
   "execution_count": 143,
   "id": "c66e8c46",
   "metadata": {},
   "outputs": [
    {
     "data": {
      "text/plain": [
       "'<mask1> recognizes achievement <mask2> art <mask2> in film <mask2> categorys original name <mask2> Best Art Direction but was changed to its current name in 2012 for the <mask2> Academy <mask2> This <mask2> <mask2> from the <mask2> <mask2> branch of the <mask2> of Motion <mask2> Arts and <mask2> AMPAS <mask2> <mask2> the Designers branch Since 1947 the award <mask2> <mask2> <mask2> the <mask2> decorators It is awarded to the best <mask2> design <mask2> <mask2> film The <mask2> below are listed with their <mask2> <mask2> for example the 2000 Academy Award for Best Art Direction is given <mask2> <mask2> <mask2> from <mask1> <mask2> the lists below the <mask2> <mask2> the <mask2> for <mask2> year is shown first followed by the other nominees in alphabetical order Superlatives <mask2> and <mask2> <mask2> 1930s <mask2> 1950s 1960s 1970s <mask2> 1990s 2000s 2010s <mask2> See also <mask2> <mask2> for Best Production Design <mask2> <mask2> <mask2> Award <mask2> Best Production Design Notes References <mask2> Production <mask2> Awards for best art <mask2>'"
      ]
     },
     "execution_count": 143,
     "metadata": {},
     "output_type": "execute_result"
    }
   ],
   "source": [
    "masked"
   ]
  },
  {
   "cell_type": "code",
   "execution_count": 144,
   "id": "5bf15b37",
   "metadata": {},
   "outputs": [
    {
     "data": {
      "text/plain": [
       "'The Academy Award for Best Production Design <unmasked> <unmasked> for <unmasked> direction <unmasked> <unmasked> The <unmasked> <unmasked> <unmasked> was <unmasked> <unmasked> <unmasked> <unmasked> <unmasked> <unmasked> <unmasked> <unmasked> <unmasked> <unmasked> <unmasked> <unmasked> <unmasked> <unmasked> 85th <unmasked> Awards <unmasked> change resulted <unmasked> <unmasked> Art Directors <unmasked> <unmasked> <unmasked> Academy <unmasked> <unmasked> Picture <unmasked> <unmasked> Sciences <unmasked> being renamed <unmasked> <unmasked> <unmasked> <unmasked> <unmasked> <unmasked> <unmasked> is shared with <unmasked> set <unmasked> <unmasked> <unmasked> <unmasked> <unmasked> <unmasked> <unmasked> interior <unmasked> in a <unmasked> <unmasked> films <unmasked> <unmasked> <unmasked> <unmasked> <unmasked> production year <unmasked> <unmasked> <unmasked> <unmasked> <unmasked> <unmasked> <unmasked> <unmasked> <unmasked> <unmasked> <unmasked> <unmasked> to a film <unmasked> 1999 In <unmasked> <unmasked> <unmasked> <unmasked> winner of <unmasked> award <unmasked> each <unmasked> <unmasked> <unmasked> <unmasked> <unmasked> <unmasked> <unmasked> <unmasked> <unmasked> <unmasked> <unmasked> <unmasked> <unmasked> Winners <unmasked> nominees 1920s <unmasked> 1940s <unmasked> <unmasked> <unmasked> 1980s <unmasked> <unmasked> <unmasked> 2020s <unmasked> <unmasked> BAFTA Award <unmasked> <unmasked> <unmasked> <unmasked> Critics Choice Movie <unmasked> for <unmasked> <unmasked> <unmasked> <unmasked> <unmasked> Best <unmasked> Design <unmasked> <unmasked> <unmasked> <unmasked> direction'"
      ]
     },
     "execution_count": 144,
     "metadata": {},
     "output_type": "execute_result"
    }
   ],
   "source": [
    "label"
   ]
  },
  {
   "cell_type": "code",
   "execution_count": 145,
   "id": "86ea1ac6",
   "metadata": {},
   "outputs": [
    {
     "data": {
      "text/plain": [
       "\"The Academy Award for Best Production Design recognizes achievement for art direction in film. The category's original name was Best Art Direction, but was changed to its current name in 2012 for the 85th Academy Awards. This change resulted from the Art Director's branch of the Academy of Motion Picture Arts and Sciences (AMPAS) being renamed the Designer's branch. Since 1947, the award is shared with the set decorator(s). It is awarded to the best interior design in a film.\\n\\nThe films below are listed with their production year (for example, the 2000 Academy Award for Best Art Direction is given to a film from 1999). In the lists below, the winner of the award for each year is shown first, followed by the other nominees in alphabetical order.\\n\\nSuperlatives\\n\\nWinners and nominees\\n\\n1920s\\n\\n1930s\\n\\n1940s\\n\\n1950s\\n\\n1960s\\n\\n1970s\\n\\n1980s\\n\\n1990s\\n\\n2000s\\n\\n2010s\\n\\n2020s\\n\\nSee also\\n BAFTA Award for Best Production Design\\n Critics' Choice Movie Award for Best Production Design\\n\\nNotes\\n\\nReferences\\n\\nBest Production Design\\n\\nAwards for best art direction\""
      ]
     },
     "execution_count": 145,
     "metadata": {},
     "output_type": "execute_result"
    }
   ],
   "source": [
    "wiki_dataset[\"train\"][0][\"text\"]"
   ]
  },
  {
   "cell_type": "code",
   "execution_count": 102,
   "id": "6de81afd",
   "metadata": {},
   "outputs": [
    {
     "data": {
      "text/plain": [
       "array([2., 2., 2., 2., 2., 2., 2., 0., 0., 1., 0., 0., 0., 0., 0., 0., 0.,\n",
       "       0., 0., 1., 1., 0., 0., 1., 0., 0., 1., 0., 0., 0., 0., 0., 0., 0.,\n",
       "       0., 1., 0., 0., 0., 1., 1., 1., 0., 0., 0., 0., 0., 1., 0., 1., 1.,\n",
       "       0., 0., 0., 0., 0., 0., 0., 0., 0., 0., 0., 0., 1., 1., 0., 0., 1.,\n",
       "       0., 0., 1., 0., 0., 1., 0., 1., 0., 0., 0., 0., 0., 0., 0., 0., 0.,\n",
       "       0., 1., 1., 0., 0., 1., 0., 0., 0., 0., 0., 1., 1., 1., 1., 1., 0.,\n",
       "       0., 0., 1., 2., 0., 0., 0., 0., 0., 0., 0., 0., 0., 0., 0., 0., 0.,\n",
       "       0., 0., 0., 0., 0., 0., 1., 0., 0., 0., 0., 0., 1., 0., 0., 1., 0.,\n",
       "       0., 0., 0., 1., 1., 0., 0., 0., 0., 0., 1., 0., 0., 1., 0., 0., 1.,\n",
       "       1., 0., 0., 0., 0., 0., 0., 0., 0., 0., 1., 0., 1., 0., 1., 0., 1.])"
      ]
     },
     "execution_count": 102,
     "metadata": {},
     "output_type": "execute_result"
    }
   ],
   "source": [
    "mask"
   ]
  },
  {
   "cell_type": "code",
   "execution_count": null,
   "id": "c9797823",
   "metadata": {},
   "outputs": [],
   "source": [
    "  def mask_sentence(sentence, entities, prob_ner, prob_token):\n",
    "\n",
    "        tokens_sentence = sentence.translate(str.maketrans('', '', string.punctuation))\n",
    "        processed = sentence\n",
    "        tokens_sentnece_list = tokens_sentence.split()\n",
    "        \n",
    "        tokens_sentnece_list_masking = np.zeros()\n",
    "\n",
    "\n",
    "        for entity in entities:\n",
    "            if entity in sentence:\n",
    "                tokens_sentence = tokens_sentence.replace(entity, \"\")\n",
    "                if random.random() <= prob_ner:\n",
    "                    processed = sentence.replace(entity, NER_MASK)\n",
    "\n",
    "        for token in tokens_sentnece_list:\n",
    "            if token == NER_MASK:\n",
    "                continue\n",
    "            if random.random() <= prob_token:\n",
    "                processed = processed.replace(\" \" + token, \" \" + NER_TOKEN_MASK, 1)\n",
    "                processed = processed.replace(\" \" + token + \" \", \" \" + NER_TOKEN_MASK + \" \", 1)\n",
    "                processed = processed.replace(token + \" \", NER_TOKEN_MASK + \" \", 1)\n",
    "\n",
    "        for i in range(0, len(tokens_sentnece_list)):\n",
    "            multiple_masks = NER_TOKEN_MASK\n",
    "            for j in range (0, i):\n",
    "                multiple_masks += \" \" + NER_TOKEN_MASK\n",
    "            processed = processed.replace(multiple_masks, NER_TOKEN_MASK)\n",
    "\n",
    "        return processed\n",
    "  "
   ]
  }
 ],
 "metadata": {
  "kernelspec": {
   "display_name": "Python 3 (ipykernel)",
   "language": "python",
   "name": "python3"
  },
  "language_info": {
   "codemirror_mode": {
    "name": "ipython",
    "version": 3
   },
   "file_extension": ".py",
   "mimetype": "text/x-python",
   "name": "python",
   "nbconvert_exporter": "python",
   "pygments_lexer": "ipython3",
   "version": "3.10.11"
  }
 },
 "nbformat": 4,
 "nbformat_minor": 5
}
