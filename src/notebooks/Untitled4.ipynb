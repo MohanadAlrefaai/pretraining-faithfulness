{
 "cells": [
  {
   "cell_type": "code",
   "execution_count": 41,
   "id": "68586e41",
   "metadata": {},
   "outputs": [],
   "source": [
    "text = \"some1 text before mask text until here  some2 text between another mask some3 text after\"\n",
    "masked = \"some1 text before <mask> some2 text between <mask> some3 text after\"\n",
    "\n",
    "target = [0, 0, 0, 1, 1, 1, 1, 0, 0, 0]"
   ]
  },
  {
   "cell_type": "code",
   "execution_count": 5,
   "id": "6bdae8c8",
   "metadata": {},
   "outputs": [
    {
     "name": "stdout",
     "output_type": "stream",
     "text": [
      "Batman\n",
      "Batwoman\n"
     ]
    }
   ],
   "source": [
    "import re\n",
    "batRegex = re.compile(r'Bat(wo)?man')\n",
    "\n",
    "mo1 = batRegex.search('The Adventures of Batman')\n",
    "mo2 = batRegex.search('The Adventures of Batwoman')\n",
    "print(mo1.group(0))\n",
    "print(mo2.group())"
   ]
  },
  {
   "cell_type": "code",
   "execution_count": 42,
   "id": "e53a8895",
   "metadata": {},
   "outputs": [
    {
     "data": {
      "text/plain": [
       "['some1',\n",
       " 'text',\n",
       " 'before',\n",
       " 'mask',\n",
       " 'text',\n",
       " 'until',\n",
       " 'here',\n",
       " 'some2',\n",
       " 'text',\n",
       " 'between',\n",
       " 'another',\n",
       " 'mask',\n",
       " 'some3',\n",
       " 'text',\n",
       " 'after']"
      ]
     },
     "execution_count": 42,
     "metadata": {},
     "output_type": "execute_result"
    }
   ],
   "source": [
    "text_tokens = text.split()\n",
    "text_tokens"
   ]
  },
  {
   "cell_type": "code",
   "execution_count": 43,
   "id": "c97a597c",
   "metadata": {},
   "outputs": [
    {
     "data": {
      "text/plain": [
       "['some1',\n",
       " 'text',\n",
       " 'before',\n",
       " '<mask>',\n",
       " 'some2',\n",
       " 'text',\n",
       " 'between',\n",
       " '<mask>',\n",
       " 'some3',\n",
       " 'text',\n",
       " 'after']"
      ]
     },
     "execution_count": 43,
     "metadata": {},
     "output_type": "execute_result"
    }
   ],
   "source": [
    "masked_tokens = masked.split()\n",
    "masked_tokens"
   ]
  },
  {
   "cell_type": "code",
   "execution_count": 12,
   "id": "234ede2c",
   "metadata": {},
   "outputs": [
    {
     "data": {
      "text/plain": [
       "0"
      ]
     },
     "execution_count": 12,
     "metadata": {},
     "output_type": "execute_result"
    }
   ],
   "source": [
    "masked.find(\"some\")"
   ]
  },
  {
   "cell_type": "code",
   "execution_count": 13,
   "id": "c9764a63",
   "metadata": {},
   "outputs": [
    {
     "name": "stdout",
     "output_type": "stream",
     "text": [
      "0 4\n",
      "24 28\n"
     ]
    }
   ],
   "source": [
    "for match in re.finditer(\"some\", masked):\n",
    "    print (match.start(), match.end())"
   ]
  },
  {
   "cell_type": "code",
   "execution_count": 20,
   "id": "e4b93157",
   "metadata": {},
   "outputs": [
    {
     "data": {
      "text/plain": [
       "[(17, 22), (42, 47)]"
      ]
     },
     "execution_count": 20,
     "metadata": {},
     "output_type": "execute_result"
    }
   ],
   "source": [
    "def findSubstringInString(substring, string):\n",
    "    return [match.span()  for match in re.finditer(substring, string)]\n",
    "\n",
    "findSubstringInString(\"<mask\", masked)\n",
    "    "
   ]
  },
  {
   "cell_type": "code",
   "execution_count": 24,
   "id": "62337144",
   "metadata": {},
   "outputs": [
    {
     "data": {
      "text/plain": [
       "array([0., 0., 0., 0., 0., 0., 0., 0., 0., 0.])"
      ]
     },
     "execution_count": 24,
     "metadata": {},
     "output_type": "execute_result"
    }
   ],
   "source": [
    "masked_index = 0\n",
    "text_index = 0\n",
    "\n",
    "import numpy as np\n",
    "\n",
    "special_masks = [\"<mask>\"]\n",
    "\n",
    "isPrevMasked = False\n",
    "isCurrentMasked = False\n",
    "\n",
    "\n",
    "result = np.zeros(len(text_tokens))\n",
    "            \n",
    "result"
   ]
  },
  {
   "cell_type": "code",
   "execution_count": 47,
   "id": "1337e3c1",
   "metadata": {},
   "outputs": [
    {
     "name": "stdout",
     "output_type": "stream",
     "text": [
      "text  -  some2\n",
      "until  -  some2\n",
      "here  -  some2\n",
      "mask  -  some3\n",
      "[0. 0. 0. 1. 1. 1. 1. 0. 0. 0. 1. 1. 0. 0. 0.]\n"
     ]
    }
   ],
   "source": [
    "def extract_masked(text, masked):\n",
    "    text = \n",
    "    text_index = 0\n",
    "    mask_index = 0\n",
    "\n",
    "    result = np.zeros(len(text_tokens))\n",
    "\n",
    "    while text_index < len(text_tokens) and mask_index < len(masked_tokens):\n",
    "        mask_token = masked_tokens[mask_index]\n",
    "        text_token = text_tokens[text_index]\n",
    "\n",
    "        if mask_token in special_masks:\n",
    "            # the related text token is masked for sure\n",
    "            result[text_index] = 1\n",
    "\n",
    "            unmasked_tokens_match = False\n",
    "\n",
    "            next_token_index = text_index + 1\n",
    "            next_mask_index = mask_index + 1\n",
    "            while not unmasked_tokens_match:\n",
    "                next_token = text_tokens[next_token_index]\n",
    "                next_masked = masked_tokens[next_mask_index]\n",
    "\n",
    "                if next_token != next_masked:\n",
    "                    print(next_token, \" - \", next_masked)\n",
    "                    result[next_token_index] = 1\n",
    "                    next_token_index += 1\n",
    "                else:\n",
    "                    unmasked_tokens_match = True\n",
    "                    text_index = next_token_index - 1\n",
    "\n",
    "        #if mask_token == text_token:\n",
    "        #    result[text_index] = 0\n",
    "\n",
    "        text_index += 1\n",
    "        mask_index += 1\n",
    "    return result\n",
    "    \n",
    "print(extract_masked(text))"
   ]
  },
  {
   "cell_type": "code",
   "execution_count": 34,
   "id": "d2e08ce1",
   "metadata": {},
   "outputs": [
    {
     "data": {
      "text/plain": [
       "['some',\n",
       " 'text',\n",
       " 'before',\n",
       " 'mask',\n",
       " 'text',\n",
       " 'until',\n",
       " 'here',\n",
       " 'some',\n",
       " 'text',\n",
       " 'after']"
      ]
     },
     "execution_count": 34,
     "metadata": {},
     "output_type": "execute_result"
    }
   ],
   "source": [
    "text_tokens"
   ]
  },
  {
   "cell_type": "code",
   "execution_count": 48,
   "id": "1d96c99b",
   "metadata": {},
   "outputs": [],
   "source": [
    "from datasets import load_from_disk\n",
    "\n",
    "wiki_dataset_mlm = load_from_disk(\"C:\\.cache\\huggingface\\datasets\\wiki_mlm\")"
   ]
  },
  {
   "cell_type": "code",
   "execution_count": 49,
   "id": "6daf09bc",
   "metadata": {},
   "outputs": [
    {
     "data": {
      "text/plain": [
       "\"<conn1> <mask1> recognizes achievement for art direction in film. <mask2> category's <mask2> name was <mask1>, but was changed to <mask2> current name in 2012 for the 85th Academy Awards. This change resulted from the Art Director's <mask2> of the Academy of Motion Picture Arts and Sciences (AMPAS) being renamed the <mask1>'s branch. Since <mask1>, the award is shared with the set decorator(s). It is awarded to <mask2> best interior design in a film. The <mask2> <mask2>re listed with their production year (<mask2> example, the 2000 Academy Award <mask2> <mask1> is <mask2> to <mask2> film from 1999). <mask2> the lists below, the winner of the award for each year is shown <mask1>, followed by the other nominees <mask2> alphabetical order. Superlatives\\n\\nWinners <mask2> nominees\\n\\n1920s\\n\\n1930s\\n\\n1940s\\n\\n1950s\\n\\n1960s\\n\\n1970s\\n\\n1980s\\n\\n1990s\\n\\n<mask1>\\n\\n2010s\\n\\n2020s\\n\\nSee <mask2>\\n BAFTA Award <mask2> <mask2>\\n <mask2>' <mask2> Movie Award <mask2> <mask2>\\n\\nNotes\\n\\nReferences\\n\\n<mask2> <mask2>\\n\\n<mask2> best art direction\""
      ]
     },
     "execution_count": 49,
     "metadata": {},
     "output_type": "execute_result"
    }
   ],
   "source": [
    "wiki_dataset_mlm[0][\"text\"]"
   ]
  },
  {
   "cell_type": "code",
   "execution_count": 51,
   "id": "278252dd",
   "metadata": {},
   "outputs": [],
   "source": [
    "from datasets import load_from_disk\n",
    "\n",
    "wiki_dataset = load_from_disk(\"C:\\.cache\\huggingface\\datasets\\wiki_100_1000\")"
   ]
  },
  {
   "cell_type": "code",
   "execution_count": 52,
   "id": "bf2e650e",
   "metadata": {},
   "outputs": [
    {
     "data": {
      "text/plain": [
       "DatasetDict({\n",
       "    train: Dataset({\n",
       "        features: ['id', 'url', 'title', 'text'],\n",
       "        num_rows: 3767787\n",
       "    })\n",
       "})"
      ]
     },
     "execution_count": 52,
     "metadata": {},
     "output_type": "execute_result"
    }
   ],
   "source": [
    "wiki_dataset"
   ]
  },
  {
   "cell_type": "code",
   "execution_count": 53,
   "id": "b8c60fca",
   "metadata": {},
   "outputs": [],
   "source": [
    "\n",
    "wiki_datasetg = load_from_disk(\"C:\\.cache\\huggingface\\datasets\\wiki_100_1000\")"
   ]
  },
  {
   "cell_type": "code",
   "execution_count": 54,
   "id": "3d1518f5",
   "metadata": {},
   "outputs": [
    {
     "data": {
      "text/plain": [
       "DatasetDict({\n",
       "    train: Dataset({\n",
       "        features: ['id', 'url', 'title', 'text'],\n",
       "        num_rows: 3767787\n",
       "    })\n",
       "})"
      ]
     },
     "execution_count": 54,
     "metadata": {},
     "output_type": "execute_result"
    }
   ],
   "source": [
    "wiki_datasetg"
   ]
  },
  {
   "cell_type": "code",
   "execution_count": null,
   "id": "cd22b55e",
   "metadata": {},
   "outputs": [],
   "source": []
  }
 ],
 "metadata": {
  "kernelspec": {
   "display_name": "Python 3 (ipykernel)",
   "language": "python",
   "name": "python3"
  },
  "language_info": {
   "codemirror_mode": {
    "name": "ipython",
    "version": 3
   },
   "file_extension": ".py",
   "mimetype": "text/x-python",
   "name": "python",
   "nbconvert_exporter": "python",
   "pygments_lexer": "ipython3",
   "version": "3.10.11"
  }
 },
 "nbformat": 4,
 "nbformat_minor": 5
}
